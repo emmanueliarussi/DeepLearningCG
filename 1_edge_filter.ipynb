{
 "cells": [
  {
   "cell_type": "markdown",
   "metadata": {},
   "source": [
    "# 1 - Edge Filter\n",
    "En este primer ejercicio, crearemos una red convolucional mínima para aprender un filtro de bordes"
   ]
  },
  {
   "cell_type": "code",
   "execution_count": 2,
   "metadata": {},
   "outputs": [],
   "source": [
    "# Import de paquetes\n",
    "%matplotlib inline\n",
    "import matplotlib.pyplot as plt\n",
    "%matplotlib inline\n",
    "plt.ion()\n",
    "\n",
    "import sys\n",
    "import os\n",
    "\n",
    "# Numpy\n",
    "import numpy as np\n",
    "from skimage import color, io\n",
    "\n",
    "# PyTorch\n",
    "import torch\n",
    "import torch.nn as nn\n",
    "import torch.nn.functional as F\n",
    "\n",
    "# Torchvision\n",
    "import torchvision.utils\n",
    "import torchvision.transforms as transforms\n",
    "from torch.utils.data import Dataset, DataLoader\n",
    "\n",
    "# Dataset: CIFAR10 https://www.cs.toronto.edu/~kriz/cifar.html\n",
    "from torchvision.datasets import CIFAR10"
   ]
  },
  {
   "cell_type": "markdown",
   "metadata": {},
   "source": [
    "## Hiperparámetros de entrenamiento"
   ]
  },
  {
   "cell_type": "code",
   "execution_count": 3,
   "metadata": {},
   "outputs": [],
   "source": [
    "# Hiperparametros\n",
    "num_epochs = 10\n",
    "batch_size = 512\n",
    "learning_rate = 1e-1\n",
    "use_gpu = True"
   ]
  },
  {
   "cell_type": "markdown",
   "metadata": {},
   "source": [
    "## Clase dataset"
   ]
  },
  {
   "cell_type": "code",
   "execution_count": null,
   "metadata": {},
   "outputs": [
    {
     "name": "stdout",
     "output_type": "stream",
     "text": [
      "Downloading https://www.cs.toronto.edu/~kriz/cifar-10-python.tar.gz to ./data/CIFAR10/cifar-10-python.tar.gz\n"
     ]
    }
   ],
   "source": [
    "gt_edge_filter = nn.Conv2d(1, 1, kernel_size=3, padding=1, bias=False)\n",
    "gt_edge_filter.weight.data = torch.FloatTensor([[1, 0, -1], [2, 0, -2], [1, 0, -1]]).view(1, 1, 3, 3)\n",
    "\n",
    "def edge_filter(img):\n",
    "    with torch.no_grad():\n",
    "        return gt_edge_filter(img.unsqueeze(0)).squeeze(0)\n",
    "\n",
    "class EdgeImageDataset(Dataset):\n",
    "    \n",
    "    def __init__(self, root, train=True):\n",
    "        self.cifar = CIFAR10(root=root, train=train, transform=None, target_transform=None, download=True)\n",
    "        \n",
    "        self.img_transform = transforms.Compose([\n",
    "            transforms.Grayscale(),\n",
    "            transforms.ToTensor()\n",
    "        ])\n",
    "        \n",
    "        self.img2edge_transform = transforms.Compose([\n",
    "            transforms.Grayscale(),\n",
    "            transforms.ToTensor(),\n",
    "            transforms.Lambda(edge_filter)\n",
    "        ])\n",
    "    \n",
    "    def __getitem__(self, index):\n",
    "        img = self.cifar[index][0]\n",
    "        return (self.img_transform(img), self.img2edge_transform(img))\n",
    "        \n",
    "    def __len__(self):\n",
    "        return len(self.cifar)\n",
    "\n",
    "train_dataset = EdgeImageDataset('./data/CIFAR10', train=True)\n",
    "train_dataloader = DataLoader(train_dataset, batch_size=batch_size, shuffle=True)\n",
    "\n",
    "test_dataset = EdgeImageDataset('./data/CIFAR10', train=False)\n",
    "test_dataloader = DataLoader(test_dataset, batch_size=batch_size, shuffle=True)"
   ]
  },
  {
   "cell_type": "markdown",
   "metadata": {},
   "source": [
    "## Clase CNN"
   ]
  },
  {
   "cell_type": "code",
   "execution_count": null,
   "metadata": {},
   "outputs": [],
   "source": [
    "class EdgeNet(nn.Module):\n",
    "    def __init__(self, d=128):\n",
    "        super(EdgeNet, self).__init__()\n",
    "        \n",
    "        # no vamos a usar bias, de esa forma, el kernel aprendido debería ser \n",
    "        # similar al que utilizamos para el filtro del target\n",
    "        self.conv = nn.Conv2d(1, 1, kernel_size=3, padding=1, bias=False)\n",
    "\n",
    "    def forward(self, input):\n",
    "        return self.conv(input)\n",
    "\n",
    "enet = EdgeNet()\n",
    "\n",
    "# Selecciono el dispositivo de entrenamiento a utilizar (gpu/cpu)\n",
    "device = torch.device(\"cuda:0\" if use_gpu and torch.cuda.is_available() else \"cpu\")\n",
    "enet = enet.to(device)\n",
    "print('Using device: %s' % (device))\n",
    "\n",
    "# Cantidad de parámetros de mi red\n",
    "num_params = sum(p.numel() for p in enet.parameters() if p.requires_grad)\n",
    "print('Number of parameters: %d' % (num_params))"
   ]
  },
  {
   "cell_type": "markdown",
   "metadata": {},
   "source": [
    "## Loop de entrenamiento"
   ]
  },
  {
   "cell_type": "code",
   "execution_count": null,
   "metadata": {},
   "outputs": [],
   "source": [
    "# Optimizador de los parámetros\n",
    "optimizer = torch.optim.Adam(params=enet.parameters(), lr=learning_rate)\n",
    "\n",
    "# Modo de entrenamiento \n",
    "enet.train()\n",
    "\n",
    "train_loss_avg = []\n",
    "\n",
    "print('Training ...')\n",
    "for epoch in range(num_epochs):\n",
    "    train_loss_avg.append(0)\n",
    "    num_batches = 0\n",
    "    \n",
    "    for image_batch, edge_batch in train_dataloader:\n",
    "        \n",
    "        # obtengo los batch de datos\n",
    "        image_batch = image_batch.to(device)\n",
    "        edge_batch = edge_batch.to(device)\n",
    "        \n",
    "        # intentamos predecir los bordes de la imagen\n",
    "        predicted_edge_batch = enet(image_batch)\n",
    "        \n",
    "        # computamos la distancia L2 con respecto a la imagen de bordes del target\n",
    "        loss = F.mse_loss(predicted_edge_batch, edge_batch)\n",
    "        \n",
    "        # backpropagation: computa los gradientes\n",
    "        optimizer.zero_grad()\n",
    "        loss.backward()\n",
    "        \n",
    "        # un paso en el optimizador, en la dirección establecida por los gradientes\n",
    "        optimizer.step()\n",
    "        \n",
    "        # llevo un registro de la loss en cada época para plotear\n",
    "        train_loss_avg[-1] += loss.item()\n",
    "        num_batches += 1\n",
    "        \n",
    "    train_loss_avg[-1] /= num_batches\n",
    "    print('Epoch [%d / %d] average loss: %f' % (epoch+1, num_epochs, train_loss_avg[-1]))"
   ]
  },
  {
   "cell_type": "markdown",
   "metadata": {},
   "source": [
    "## Plot del histórico de losses"
   ]
  },
  {
   "cell_type": "code",
   "execution_count": null,
   "metadata": {},
   "outputs": [],
   "source": [
    "# Graficamos la curva histórica de losses\n",
    "fig = plt.figure(figsize=(15, 5))\n",
    "plt.plot(train_loss_avg)\n",
    "plt.xlabel('Epochs')\n",
    "plt.ylabel('Loss')\n",
    "plt.show()"
   ]
  },
  {
   "cell_type": "code",
   "execution_count": null,
   "metadata": {},
   "outputs": [],
   "source": [
    "# Si queremos guardar los parámetros de la red\n",
    "# torch.save(enet.state_dict(), './detector_de_bordes.pth')"
   ]
  },
  {
   "cell_type": "markdown",
   "metadata": {},
   "source": [
    "## Testing"
   ]
  },
  {
   "cell_type": "code",
   "execution_count": null,
   "metadata": {},
   "outputs": [],
   "source": [
    "# Performance en el set de testing\n",
    "enet.eval()\n",
    "\n",
    "test_loss_avg, num_batches = 0, 0\n",
    "for image_batch, edge_batch in test_dataloader:\n",
    "\n",
    "    with torch.no_grad():\n",
    "   \n",
    "        image_batch = image_batch.to(device)\n",
    "        edge_batch  = edge_batch.to(device)\n",
    "\n",
    "        # predecimos \n",
    "        predicted_edge_batch = enet(image_batch)\n",
    "\n",
    "        # computamos la distancia L2\n",
    "        loss = F.mse_loss(predicted_edge_batch, edge_batch)\n",
    "\n",
    "        test_loss_avg += loss.item()\n",
    "        num_batches += 1\n",
    "    \n",
    "test_loss_avg /= num_batches\n",
    "print('average loss: %f' % (test_loss_avg))"
   ]
  },
  {
   "cell_type": "code",
   "execution_count": null,
   "metadata": {},
   "outputs": [],
   "source": [
    "# Miramos algunas de las imágenes que predecimos en comparación a las del dataset\n",
    "with torch.no_grad():\n",
    "\n",
    "    # elegimos imágenes random\n",
    "    image_inds  = np.random.choice(len(test_dataset), 25, replace=False)\n",
    "    image_batch = torch.stack([test_dataset[i][0] for i in image_inds])\n",
    "    edge_batch  = torch.stack([test_dataset[i][1] for i in image_inds])\n",
    "    image_batch = image_batch.to(device)\n",
    "\n",
    "    # predecimos los bordes\n",
    "    predicted_edge_batch = enet(image_batch)\n",
    "\n",
    "    # importante! para poder plotear, necesitamos traerlas si o si a cpu \n",
    "    # pueden estar en gpu si seleccionamos ese dispositivo al inicio\n",
    "    image_batch.cpu()\n",
    "    predicted_edge_batch.cpu()\n",
    "\n",
    "    # get edge magnitudes in [0,1]\n",
    "    predicted_edge_batch = ((predicted_edge_batch/4.0).pow(2)*4.0).clamp(min=0, max=1)\n",
    "    edge_batch           = ((edge_batch/4.0).pow(2)*4.0).clamp(min=0, max=1)\n",
    "\n",
    "    # detach indica que no necesitamos diferenciación automática para este tensor\n",
    "    # vamos a empezar a operar con el de una forma que no tiene que ser trackeada\n",
    "    # http://www.bnikolic.co.uk/blog/pytorch-detach.html\n",
    "    print('learned edge filter')\n",
    "    print(enet.conv.weight.cpu().detach().numpy())\n",
    "\n",
    "    print('ground truth edge filter')\n",
    "    print(gt_edge_filter.weight.cpu().detach().numpy())\n",
    "\n",
    "    # plot images\n",
    "    fig, ax = plt.subplots(figsize=(7, 7), nrows=1, ncols=1)\n",
    "    ax.imshow(np.transpose(torchvision.utils.make_grid(image_batch, nrow=5).cpu().numpy(), (1, 2, 0)))\n",
    "    ax.title.set_text('images')\n",
    "\n",
    "    # plot edges\n",
    "    fig, ax = plt.subplots(figsize=(15, 15), nrows=1, ncols=2)\n",
    "    ax[0].imshow(np.transpose(torchvision.utils.make_grid(predicted_edge_batch, nrow=5).cpu().numpy(), (1, 2, 0)))\n",
    "    ax[0].title.set_text('predicted edges')\n",
    "    ax[1].imshow(np.transpose(torchvision.utils.make_grid(edge_batch, nrow=5).cpu().numpy(), (1, 2, 0)))\n",
    "    ax[1].title.set_text('ground truth edges')\n",
    "    plt.show()"
   ]
  }
 ],
 "metadata": {
  "kernelspec": {
   "display_name": "Python 3",
   "language": "python",
   "name": "python3"
  },
  "language_info": {
   "codemirror_mode": {
    "name": "ipython",
    "version": 3
   },
   "file_extension": ".py",
   "mimetype": "text/x-python",
   "name": "python",
   "nbconvert_exporter": "python",
   "pygments_lexer": "ipython3",
   "version": "3.7.1"
  }
 },
 "nbformat": 4,
 "nbformat_minor": 2
}
