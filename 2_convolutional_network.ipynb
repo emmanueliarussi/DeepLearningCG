{
 "cells": [
  {
   "cell_type": "markdown",
   "metadata": {},
   "source": [
    "# 2 - Convolutional Network & Fashion MNIST\n",
    "Red convolucional mínima para clasificar Fashion MNIST"
   ]
  },
  {
   "cell_type": "code",
   "execution_count": 6,
   "metadata": {},
   "outputs": [],
   "source": [
    "# Import de paquetes\n",
    "%matplotlib inline\n",
    "import matplotlib.pyplot as plt\n",
    "%matplotlib inline\n",
    "plt.ion()\n",
    "\n",
    "import sys\n",
    "import os\n",
    "\n",
    "# Numpy\n",
    "import numpy as np\n",
    "from skimage import color, io\n",
    "\n",
    "# PyTorch\n",
    "import torch\n",
    "import torch.nn as nn\n",
    "import torch.nn.functional as F\n",
    "\n",
    "# Torchvision\n",
    "import torchvision.utils\n",
    "import torchvision.transforms as transforms\n",
    "from torch.utils.data import Dataset, DataLoader\n",
    "\n",
    "# Dataset\n",
    "from torchvision.datasets import FashionMNIST"
   ]
  },
  {
   "cell_type": "markdown",
   "metadata": {},
   "source": [
    "## Hiperparámetros de entrenamiento"
   ]
  },
  {
   "cell_type": "code",
   "execution_count": null,
   "metadata": {},
   "outputs": [],
   "source": [
    "num_epochs = 20\n",
    "batch_size = 128\n",
    "learning_rate = 1e-3\n",
    "use_dropout = True\n",
    "use_gpu = True"
   ]
  },
  {
   "cell_type": "markdown",
   "metadata": {},
   "source": [
    "## Fashion MNIST Dataset\n",
    "\n",
    "60.000 imágenes en 10 categorias de ropa: Top/T-shirt, Trouser, Pullover, Dress, Coat, Sandar, Shirt, Sneaker, Bag, Anckle Boot. Normalizamos el dataset."
   ]
  },
  {
   "cell_type": "code",
   "execution_count": null,
   "metadata": {},
   "outputs": [],
   "source": [
    "img_transform = transforms.Compose([\n",
    "    transforms.ToTensor(),\n",
    "    transforms.Normalize((0.5,), (0.5,)) # image = (image - mean) / std\n",
    "])\n",
    "\n",
    "train_dataset = FashionMNIST(root='./data/FashionMNIST', download=True, train=True, transform=img_transform)\n",
    "train_dataloader = DataLoader(train_dataset, batch_size=batch_size, shuffle=True)\n",
    "\n",
    "test_dataset = FashionMNIST(root='./data/FashionMNIST', download=True, train=False, transform=img_transform)\n",
    "test_dataloader = DataLoader(test_dataset, batch_size=batch_size, shuffle=True)"
   ]
  },
  {
   "cell_type": "code",
   "execution_count": null,
   "metadata": {},
   "outputs": [],
   "source": [
    "# Mostramos algunas imágenes random\n",
    "def imshow(img):\n",
    "    img = img / 2 + 0.5\n",
    "    img = img.numpy()\n",
    "    plt.imshow(np.transpose(img, (1,2,0)))\n",
    "    plt.show\n",
    "    \n",
    "samples = enumerate(train_dataloader)\n",
    "batch_idx, (sample_data, sample_targets) = next(samples)\n",
    "imshow(torchvision.utils.make_grid(sample_data))\n",
    "print(sample_targets)"
   ]
  },
  {
   "cell_type": "markdown",
   "metadata": {},
   "source": [
    "## Convolutional Network"
   ]
  },
  {
   "cell_type": "code",
   "execution_count": null,
   "metadata": {},
   "outputs": [],
   "source": [
    "class ConvNet(nn.Module):\n",
    "    def __init__(self):\n",
    "        super(ConvNet, self).__init__()\n",
    "        \n",
    "        self.conv1 = nn.Conv2d(1, 8, kernel_size=4, stride=2, padding=1) # out: 8 x 14 x 14\n",
    "        self.conv2 = nn.Conv2d(8, 16, kernel_size=4, stride=2, padding=1) # out: 16 x 7 x 7\n",
    "        self.conv3 = nn.Conv2d(16, 32, kernel_size=4, stride=2, padding=1) # out: 32 x 3 x 3\n",
    "        if use_dropout:\n",
    "            self.do1 = nn.Dropout2d(p=0.5)\n",
    "        self.fc1 = nn.Linear(288, 50)\n",
    "        if use_dropout:\n",
    "            self.do2 = nn.Dropout(p=0.5)\n",
    "        self.fc2 = nn.Linear(50, 10) # 10 outputs: probabilidad de cada clase \n",
    "\n",
    "    def forward(self, x):\n",
    "        # convolutional layers\n",
    "        x = F.relu(self.conv1(x))\n",
    "        x = F.relu(self.conv2(x))\n",
    "        x = F.relu(self.conv3(x))\n",
    "        if use_dropout:\n",
    "            x = self.do1(x)\n",
    "        x = x.view(x.size(0), -1) # aplastamos los features maps a feature vectors\n",
    "        \n",
    "        # fully connected layers\n",
    "        x = F.relu(self.fc1(x))\n",
    "        if use_dropout:\n",
    "            x = self.do2(x)\n",
    "        \n",
    "        #act = nn.LogSoftmax(dim=1)\n",
    "        x = self.fc2(x) # ultima activación es un softmax para obtener probabilidades (log)\n",
    "        \n",
    "        return x\n",
    "\n",
    "convnet = ConvNet()\n",
    "\n",
    "device = torch.device(\"cuda:0\" if use_gpu and torch.cuda.is_available() else \"cpu\")\n",
    "convnet = convnet.to(device)\n",
    "\n",
    "num_params = sum(p.numel() for p in convnet.parameters() if p.requires_grad)\n",
    "print('Number of parameters: %d' % num_params)"
   ]
  },
  {
   "cell_type": "markdown",
   "metadata": {},
   "source": [
    "## Loop de entrenamiento"
   ]
  },
  {
   "cell_type": "code",
   "execution_count": null,
   "metadata": {},
   "outputs": [],
   "source": [
    "# Optimizador\n",
    "optimizer = torch.optim.Adam(params=convnet.parameters(), lr=learning_rate)\n",
    "\n",
    "# red en modo training\n",
    "convnet.train()\n",
    "\n",
    "train_loss_avg = []\n",
    "\n",
    "# loss function (Cross Entropy)\n",
    "criterion = nn.CrossEntropyLoss()\n",
    "\n",
    "print('Training ...')\n",
    "for epoch in range(num_epochs):\n",
    "    train_loss_avg.append(0)\n",
    "    num_batches = 0\n",
    "    \n",
    "    for image_batch, label_batch in train_dataloader:\n",
    "        \n",
    "        # Batch y etiquetas a memoria del dispositivo\n",
    "        image_batch = image_batch.to(device)\n",
    "        label_batch = label_batch.to(device)\n",
    "        \n",
    "        # Predicciones para el batch\n",
    "        prediction_batch = convnet(image_batch)\n",
    "        \n",
    "        # El primer parámetro son las probabilidades de cada clase que el modelo predice\n",
    "        # El segundo son las etiquetas de probabilidad.\n",
    "        loss = criterion(prediction_batch, label_batch)\n",
    "        \n",
    "        # backpropagation\n",
    "        optimizer.zero_grad()\n",
    "        loss.backward()\n",
    "        \n",
    "        # paso del optimizador (usando los gradientes computados por backpropagation)\n",
    "        optimizer.step()\n",
    "        \n",
    "        train_loss_avg[-1] += loss.item()\n",
    "        num_batches += 1\n",
    "        \n",
    "    train_loss_avg[-1] /= num_batches\n",
    "    print('Epoch [%d / %d] average loss: %f' % (epoch+1, num_epochs, train_loss_avg[-1]))"
   ]
  },
  {
   "cell_type": "code",
   "execution_count": null,
   "metadata": {},
   "outputs": [],
   "source": [
    "import matplotlib.pyplot as plt\n",
    "plt.ion()\n",
    "\n",
    "fig = plt.figure()\n",
    "plt.plot(train_loss_avg)\n",
    "plt.xlabel('Epochs')\n",
    "plt.ylabel('Cross-entropy loss')\n",
    "plt.show()"
   ]
  },
  {
   "cell_type": "markdown",
   "metadata": {},
   "source": [
    "## Evaluación"
   ]
  },
  {
   "cell_type": "code",
   "execution_count": null,
   "metadata": {},
   "outputs": [],
   "source": [
    "# Modo evaluacion\n",
    "convnet.eval()\n",
    "\n",
    "num_incorrect = 0\n",
    "test_loss_avg = 0\n",
    "num_batches = 0\n",
    "num_instances = 0\n",
    "for image_batch, label_batch in test_dataloader:\n",
    "    \n",
    "    with torch.no_grad():\n",
    "\n",
    "        image_batch = image_batch.to(device)\n",
    "        label_batch = label_batch.to(device)\n",
    "\n",
    "        # predicciones\n",
    "        prediction_batch = convnet(image_batch)\n",
    "\n",
    "        # Contamos la cantidad de predicciones correctas\n",
    "        _, predicted_label = prediction_batch.max(dim=1)\n",
    "        num_incorrect += (predicted_label != label_batch).sum().item()\n",
    "\n",
    "        # cross-entropy \n",
    "        loss = criterion(prediction_batch, label_batch)\n",
    "\n",
    "        test_loss_avg += loss.item()\n",
    "        num_batches += 1\n",
    "        num_instances += image_batch.size(0)\n",
    "    \n",
    "test_loss_avg /= num_batches\n",
    "print('average loss: %f' % (test_loss_avg))\n",
    "print('classification error: %f%%' % ((num_incorrect / num_instances)*100))"
   ]
  },
  {
   "cell_type": "code",
   "execution_count": null,
   "metadata": {},
   "outputs": [],
   "source": [
    "# Verificar predicciones en imágenes random\n",
    "samples = enumerate(test_dataloader)\n",
    "batch_idx, (sample_data, sample_targets) = next(samples)\n",
    "\n",
    "prediction_batch = convnet(sample_data)\n",
    "_, predicted_label = prediction_batch.max(dim=1)\n",
    "\n",
    "imshow(torchvision.utils.make_grid(sample_data))\n",
    "print(sample_targets)\n",
    "print(predicted_label)"
   ]
  },
  {
   "cell_type": "code",
   "execution_count": null,
   "metadata": {},
   "outputs": [],
   "source": []
  }
 ],
 "metadata": {
  "kernelspec": {
   "display_name": "Python 3",
   "language": "python",
   "name": "python3"
  },
  "language_info": {
   "codemirror_mode": {
    "name": "ipython",
    "version": 3
   },
   "file_extension": ".py",
   "mimetype": "text/x-python",
   "name": "python",
   "nbconvert_exporter": "python",
   "pygments_lexer": "ipython3",
   "version": "3.7.0"
  }
 },
 "nbformat": 4,
 "nbformat_minor": 2
}
